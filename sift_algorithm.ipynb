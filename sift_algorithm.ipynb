{
 "cells": [
  {
   "cell_type": "code",
   "execution_count": 1,
   "metadata": {},
   "outputs": [
    {
     "data": {
      "text/plain": [
       "array([[[228, 223, 224],\n",
       "        [228, 223, 224],\n",
       "        [228, 223, 224],\n",
       "        ...,\n",
       "        [220, 210, 210],\n",
       "        [221, 211, 211],\n",
       "        [221, 211, 211]],\n",
       "\n",
       "       [[228, 223, 224],\n",
       "        [228, 223, 224],\n",
       "        [228, 223, 224],\n",
       "        ...,\n",
       "        [220, 210, 210],\n",
       "        [221, 211, 211],\n",
       "        [221, 211, 211]],\n",
       "\n",
       "       [[228, 223, 224],\n",
       "        [228, 223, 224],\n",
       "        [228, 223, 224],\n",
       "        ...,\n",
       "        [220, 210, 210],\n",
       "        [221, 211, 211],\n",
       "        [221, 211, 211]],\n",
       "\n",
       "       ...,\n",
       "\n",
       "       [[248, 238, 238],\n",
       "        [248, 238, 238],\n",
       "        [249, 239, 239],\n",
       "        ...,\n",
       "        [193, 188, 187],\n",
       "        [193, 188, 187],\n",
       "        [193, 188, 187]],\n",
       "\n",
       "       [[248, 238, 238],\n",
       "        [248, 238, 238],\n",
       "        [248, 238, 238],\n",
       "        ...,\n",
       "        [193, 188, 187],\n",
       "        [193, 188, 187],\n",
       "        [193, 188, 187]],\n",
       "\n",
       "       [[247, 237, 237],\n",
       "        [248, 238, 238],\n",
       "        [248, 238, 238],\n",
       "        ...,\n",
       "        [193, 188, 187],\n",
       "        [193, 188, 187],\n",
       "        [193, 188, 187]]], dtype=uint8)"
      ]
     },
     "execution_count": 1,
     "metadata": {},
     "output_type": "execute_result"
    }
   ],
   "source": [
    "import cv2\n",
    "import numpy as np\n",
    "import matplotlib.pyplot as plt\n",
    "import torch\n",
    "\n",
    "#1、读取图像\n",
    "img=cv2.imread('cat.jpg', cv2.IMREAD_COLOR)\n",
    "img"
   ]
  },
  {
   "cell_type": "code",
   "execution_count": 2,
   "metadata": {},
   "outputs": [],
   "source": [
    "img_tensor = torch.tensor(img, dtype=torch.float32).permute(2, 0, 1)"
   ]
  },
  {
   "cell_type": "code",
   "execution_count": 3,
   "metadata": {},
   "outputs": [],
   "source": [
    "sigma = 0.2\n",
    "num_layers = 3\n",
    "num_sub_layers = 3"
   ]
  },
  {
   "cell_type": "code",
   "execution_count": 4,
   "metadata": {},
   "outputs": [],
   "source": [
    "image_pyramid = []\n",
    "x = np.arange(0, 3, 1, np.float32)\n",
    "y = x[:, np.newaxis]\n",
    "# for layer in range(num_layers):\n",
    "#     for sub_layer in range(num_sub_layers):\n",
    "#         tmp_sigma = sigma * 2 ** (layer + 1 / sub_layer)\n",
    "        \n",
    "#         # g = 1 / 2 * np.pi * sigma ** 2 * np.exp(- (x ** 2 + y ** 2) / 2 * sigma ** 2)\n",
    "#         # gauss = torch.tensor(gauss).unsqueeze(0).unsqueeze(0)\n",
    "        # conv = torch.nn.Conv2d(1, 1, 3, stride=1, padding=1)\n",
    "        \n"
   ]
  },
  {
   "cell_type": "code",
   "execution_count": 5,
   "metadata": {},
   "outputs": [
    {
     "data": {
      "text/plain": [
       "torch.Size([3, 1200, 1920])"
      ]
     },
     "execution_count": 5,
     "metadata": {},
     "output_type": "execute_result"
    }
   ],
   "source": [
    "g = 1 / 2 * np.pi * sigma ** 2 * np.exp(- (x ** 2 + y ** 2) / 2 * sigma ** 2)\n",
    "gauss = torch.nn.Parameter(torch.tensor(g).unsqueeze(0).unsqueeze(0), requires_grad=False)\n",
    "conv = torch.nn.Conv2d(1, 1, 3, stride=1, padding=1)\n",
    "conv.weight = gauss\n",
    "conv(img_tensor[0].unsqueeze(0).unsqueeze(0)).detach().shape\n",
    "\n",
    "i1 = (conv(img_tensor[0].unsqueeze(0).unsqueeze(0)).detach())\n",
    "i2 = (conv(img_tensor[1].unsqueeze(0).unsqueeze(0)).detach())\n",
    "i3 = (conv(img_tensor[2].unsqueeze(0).unsqueeze(0)).detach())\n",
    "img_g = torch.cat((i1, i2, i3), dim=1).squeeze(0)\n",
    "img_g.shape\n"
   ]
  },
  {
   "cell_type": "code",
   "execution_count": 6,
   "metadata": {},
   "outputs": [
    {
     "data": {
      "text/plain": [
       "True"
      ]
     },
     "execution_count": 6,
     "metadata": {},
     "output_type": "execute_result"
    }
   ],
   "source": [
    "cv2.imwrite(\"img.jpg\", img_g.permute(1, 2, 0).numpy())"
   ]
  },
  {
   "cell_type": "code",
   "execution_count": 3,
   "metadata": {},
   "outputs": [
    {
     "data": {
      "text/plain": [
       "0"
      ]
     },
     "execution_count": 3,
     "metadata": {},
     "output_type": "execute_result"
    }
   ],
   "source": [
    "round(0.044)"
   ]
  },
  {
   "cell_type": "code",
   "execution_count": null,
   "metadata": {},
   "outputs": [],
   "source": []
  }
 ],
 "metadata": {
  "kernelspec": {
   "display_name": "Python 3.8.13 ('d2l-zh')",
   "language": "python",
   "name": "python3"
  },
  "language_info": {
   "codemirror_mode": {
    "name": "ipython",
    "version": 3
   },
   "file_extension": ".py",
   "mimetype": "text/x-python",
   "name": "python",
   "nbconvert_exporter": "python",
   "pygments_lexer": "ipython3",
   "version": "3.8.13"
  },
  "orig_nbformat": 4,
  "vscode": {
   "interpreter": {
    "hash": "e30d57a1964afdf10752898587db4b82db9d304f1781c01eae7e9e013c1bff90"
   }
  }
 },
 "nbformat": 4,
 "nbformat_minor": 2
}
